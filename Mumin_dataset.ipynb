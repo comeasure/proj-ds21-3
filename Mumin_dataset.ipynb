{
  "nbformat": 4,
  "nbformat_minor": 0,
  "metadata": {
    "colab": {
      "name": "Mumin-dataset.ipynb",
      "provenance": []
    },
    "kernelspec": {
      "name": "python3",
      "display_name": "Python 3"
    },
    "language_info": {
      "name": "python"
    }
  },
  "cells": [
    {
      "cell_type": "code",
      "execution_count": 1,
      "metadata": {
        "colab": {
          "base_uri": "https://localhost:8080/"
        },
        "id": "Vw2GHlyTDRU2",
        "outputId": "1c90c778-fbb2-4e39-9388-545293c866a1"
      },
      "outputs": [
        {
          "output_type": "stream",
          "name": "stdout",
          "text": [
            "\u001b[K     |████████████████████████████████| 397 kB 8.8 MB/s \n",
            "\u001b[K     |████████████████████████████████| 63 kB 1.5 MB/s \n",
            "\u001b[K     |████████████████████████████████| 211 kB 57.3 MB/s \n",
            "\u001b[K     |████████████████████████████████| 60.5 MB 62 kB/s \n",
            "\u001b[K     |████████████████████████████████| 4.4 MB 19.7 MB/s \n",
            "\u001b[K     |████████████████████████████████| 4.2 MB 39.5 MB/s \n",
            "\u001b[K     |████████████████████████████████| 81 kB 7.5 MB/s \n",
            "\u001b[K     |████████████████████████████████| 7.4 MB 50.1 MB/s \n",
            "\u001b[K     |████████████████████████████████| 93 kB 851 kB/s \n",
            "\u001b[K     |████████████████████████████████| 596 kB 63.8 MB/s \n",
            "\u001b[K     |████████████████████████████████| 86 kB 4.3 MB/s \n",
            "\u001b[K     |████████████████████████████████| 6.6 MB 46.4 MB/s \n",
            "\u001b[?25h  Building wheel for tinysegmenter (setup.py) ... \u001b[?25l\u001b[?25hdone\n",
            "  Building wheel for feedfinder2 (setup.py) ... \u001b[?25l\u001b[?25hdone\n",
            "  Building wheel for jieba3k (setup.py) ... \u001b[?25l\u001b[?25hdone\n",
            "  Building wheel for timeout-decorator (setup.py) ... \u001b[?25l\u001b[?25hdone\n",
            "  Building wheel for wget (setup.py) ... \u001b[?25l\u001b[?25hdone\n",
            "  Building wheel for sgmllib3k (setup.py) ... \u001b[?25l\u001b[?25hdone\n",
            "\u001b[31mERROR: pip's dependency resolver does not currently take into account all the packages that are installed. This behaviour is the source of the following dependency conflicts.\n",
            "google-colab 1.0.0 requires requests~=2.23.0, but you have requests 2.27.1 which is incompatible.\n",
            "datascience 0.10.6 requires folium==0.2.1, but you have folium 0.8.3 which is incompatible.\n",
            "albumentations 0.1.12 requires imgaug<0.2.7,>=0.2.5, but you have imgaug 0.2.9 which is incompatible.\u001b[0m\n",
            "\u001b[K     |████████████████████████████████| 165.0 MB 49 kB/s \n",
            "\u001b[?25h"
          ]
        }
      ],
      "source": [
        "#install mumin packages \n",
        "#it took 1 min and raised pip's dependency warning\n",
        "!pip install mumin[all]==1.6.2 torchmetrics==0.7.2 --quiet\n",
        "!pip install dgl-cu111==0.7.2 -f https://data.dgl.ai/wheels/repo.html --quiet"
      ]
    },
    {
      "cell_type": "code",
      "source": [
        "#import blabla\n",
        "from mumin import MuminDataset\n",
        "from google.colab import drive\n",
        "from getpass import getpass\n",
        "from pathlib import Path\n",
        "import shutil\n",
        "import re"
      ],
      "metadata": {
        "id": "lKsp9r3wEKfG"
      },
      "execution_count": 2,
      "outputs": []
    },
    {
      "cell_type": "code",
      "source": [
        ""
      ],
      "metadata": {
        "id": "TzYBRsY0DkVA"
      },
      "execution_count": null,
      "outputs": []
    }
  ]
}